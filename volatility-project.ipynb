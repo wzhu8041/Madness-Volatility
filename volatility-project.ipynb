{
 "cells": [
  {
   "cell_type": "code",
   "execution_count": 1,
   "id": "efb64c00-c73b-46ca-bf56-331116a94d09",
   "metadata": {},
   "outputs": [],
   "source": [
    "import pandas as pd\n",
    "import numpy as np\n",
    "import matplotlib.pyplot as plt\n",
    "from tqdm import tqdm\n",
    "import math"
   ]
  },
  {
   "cell_type": "code",
   "execution_count": 2,
   "id": "a0d9c4f3-c573-46ce-95c2-4b9ed6bb3253",
   "metadata": {},
   "outputs": [],
   "source": [
    "def convert(char):\n",
    "    if char == '-':\n",
    "        return 0\n",
    "    else:\n",
    "        return int(char)"
   ]
  },
  {
   "cell_type": "code",
   "execution_count": null,
   "id": "3400088e-c747-4b2b-a4aa-ff70178f0539",
   "metadata": {},
   "outputs": [],
   "source": [
    "url = \"https://www.espn.com/mens-college-basketball/rankings/_/week/{}/year/{}/seasontype/2\"\n",
    "trends = np.zeros((21, 20)) # (year, week)\n",
    "for year in tqdm(range(21)): # 2003-04 to 2022-23\n",
    "    total = 0\n",
    "    for week in range(20): # start at week 2, maximum week 20\n",
    "        try:\n",
    "            df = pd.read_html(url.format(week + 2, year + 2003))[0] # this is the AP poll; coaches is index 1\n",
    "            trend = df['TREND'].to_numpy()\n",
    "            trend = list(map(convert, trend))\n",
    "            trends[year, week] = sum(trend)\n",
    "        except ValueError as oops:\n",
    "            continue"
   ]
  },
  {
   "cell_type": "code",
   "execution_count": null,
   "id": "f0b50bf6-553b-41a9-9746-7d71fb958570",
   "metadata": {},
   "outputs": [],
   "source": [
    "sums = np.zeros(21)\n",
    "for i in range(21):\n",
    "    sums[i] = sum(trends[i])   \n",
    "plt.scatter(range(2003,2024), sums)\n",
    "np.save('ranking-trends-yearly', sums)"
   ]
  },
  {
   "cell_type": "markdown",
   "id": "f7f2a134-3304-493c-8b3c-2cac9046d847",
   "metadata": {},
   "source": [
    "# Looking at TOURNEYS\n",
    "### want year, seeding, round"
   ]
  },
  {
   "cell_type": "code",
   "execution_count": 4,
   "id": "708605e9-1e8d-4d59-a784-f7f83d4abeae",
   "metadata": {},
   "outputs": [],
   "source": [
    "url = 'https://en.wikipedia.org/wiki/NCAA_Division_I_men%27s_basketball_tournament_upsets#National_championship'\n",
    "df = pd.read_html(url)\n",
    "data = np.empty((0,3))"
   ]
  },
  {
   "cell_type": "code",
   "execution_count": 5,
   "id": "fe073dc8-56f7-4355-9692-23b9daa7ff2c",
   "metadata": {},
   "outputs": [],
   "source": [
    "def get_seed(loser):\n",
    "    loser = loser.split(')')\n",
    "    return int(loser[0][1:])"
   ]
  },
  {
   "cell_type": "markdown",
   "id": "e3f58647-88a3-4b0d-bb7a-43209a7aa717",
   "metadata": {},
   "source": [
    "tables 0 through 6 are round of 64-- 0th being 16 seeds, ..., 6th being 10 seeds\n",
    "\n",
    "for round of 32, don't want 10, 12, 14, 16-- these are seeds 15 through 8\n",
    "\n",
    "sweet 16: 19 through 24-- seeds 15, 12, 11, 10, 9, 8\n",
    "\n",
    "elite 8: 25 through 29-- 11, 10, 9, 8, 7"
   ]
  },
  {
   "cell_type": "code",
   "execution_count": 12,
   "id": "890e796f-e558-4bbd-8a52-1b25b06df81d",
   "metadata": {},
   "outputs": [
    {
     "name": "stdout",
     "output_type": "stream",
     "text": [
      "[[1985.    7.    5.]]\n",
      "[[ 2.014e+03 -1.000e+00  5.000e+00]]\n",
      "[[1983.    5.    5.]\n",
      " [1988.    5.    5.]]\n"
     ]
    }
   ],
   "source": [
    "# ROUND O' 64\n",
    "for i in range(0, 7):\n",
    "    seed_diff = 15 - 2*i\n",
    "    games_in = 0\n",
    "    num = df[i].shape[0] - 1\n",
    "    upsets = np.empty((num, 3))\n",
    "    upsets[:,0] = np.array(df[i][1:][0], dtype=int)\n",
    "    upsets[:,1:] = seed_diff, games_in\n",
    "    data = np.concatenate((data, upsets))\n",
    "\n",
    "# ROUND O' 32\n",
    "seeds = [15, 14, 13, -1, 12, -1, 11, -1, 10, -1, 9, 8]\n",
    "games_in = 1\n",
    "for i in range(7, 19):\n",
    "    seed = seeds[i - 7]\n",
    "    if seed < 0:\n",
    "        continue\n",
    "        print(seed)\n",
    "    if i > 10:\n",
    "        num = df[i].shape[0] - 2\n",
    "        upsets = np.empty((num, 3))\n",
    "        losers = df[i][2:][2]\n",
    "        upsets[:,0] = np.array(df[i][2:][0], dtype=int)\n",
    "    else:\n",
    "        num = df[i].shape[0] - 1\n",
    "        upsets = np.empty((num, 3))\n",
    "        losers = df[i][1:][2]\n",
    "        upsets[:,0] = np.array(df[i][1:][0], dtype=int)\n",
    "    losers = list(map(get_seed, losers))\n",
    "    seed_diff = np.repeat(seed, len(losers)) - np.array(losers)\n",
    "    upsets[:,1] = seed_diff\n",
    "    upsets[:,2] = np.repeat(games_in, len(losers))\n",
    "    data = np.concatenate((data, upsets))\n",
    "\n",
    "# SWEET 16\n",
    "seeds = [15, 12, 11, 10, 9, 8]\n",
    "games_in = 2\n",
    "for i in range(19, 25):\n",
    "    seed = seeds[i - 19]\n",
    "    num = df[i].shape[0] - 1\n",
    "    upsets = np.empty((num, 3))\n",
    "    losers = list(map(get_seed, df[i][1:][2]))\n",
    "    upsets[:,0] = np.array(df[i][1:][0], dtype=int)\n",
    "    seed_diff = np.repeat(seed, num) - np.array(losers)\n",
    "    upsets[:,1] = seed_diff\n",
    "    upsets[:,2] = np.repeat(games_in, num)\n",
    "    data = np.concatenate((data, upsets))\n",
    "\n",
    "# ELITE 8\n",
    "seeds = [11, 10, 9, 8, 7]\n",
    "games_in = 3\n",
    "for i in range(25, 30):\n",
    "    seed = seeds[i - 25]\n",
    "    num = df[i].shape[0] - 1\n",
    "    upsets = np.empty((num, 3))\n",
    "    losers = list(map(get_seed, df[i][1:][2]))\n",
    "    upsets[:,0] = np.array(df[i][1:][0], dtype=int)\n",
    "    seed_diff = np.repeat(seed, num) - np.array(losers)\n",
    "    upsets[:,1] = seed_diff\n",
    "    upsets[:,2] = np.repeat(games_in, num)\n",
    "    data = np.concatenate((data, upsets))\n",
    "\n",
    "# FINAL 4\n",
    "seeds = [8, 7, 6]\n",
    "games_in = 4\n",
    "for i in range(30, 33):\n",
    "    seed = seeds[i - 30]\n",
    "    num = df[i].shape[0] - 1\n",
    "    upsets = np.empty((num, 3))\n",
    "    losers = list(map(get_seed, df[i][1:][2]))\n",
    "    upsets[:,0] = np.array(df[i][1:][0], dtype=int)\n",
    "    seed_diff = np.repeat(seed, num) - np.array(losers)\n",
    "    upsets[:,1] = seed_diff\n",
    "    upsets[:,2] = np.repeat(games_in, num)\n",
    "    data = np.concatenate((data, upsets))\n",
    "\n",
    "# CHIP\n",
    "seeds = [8, 7, 6]\n",
    "games_in = 5\n",
    "for i in range(33, 36):\n",
    "    seed = seeds[i - 33]\n",
    "    num = df[i].shape[0] - 1\n",
    "    upsets = np.empty((num, 3))\n",
    "    losers = list(map(get_seed, df[i][1:][2]))\n",
    "    upsets[:,0] = np.array(df[i][1:][0], dtype=int)\n",
    "    seed_diff = np.repeat(seed, num) - np.array(losers)\n",
    "    upsets[:,1] = seed_diff\n",
    "    upsets[:,2] = np.repeat(games_in, num)\n",
    "    print(upsets)\n",
    "    data = np.concatenate((data, upsets))"
   ]
  },
  {
   "cell_type": "code",
   "execution_count": 13,
   "id": "6781979f-6a54-4ced-84f6-2e71f0ae1dfc",
   "metadata": {},
   "outputs": [],
   "source": [
    "# SORT BASED ON YEAR\n",
    "data = data[data[:, 0].argsort()]\n",
    "np.save('upsets', data) "
   ]
  },
  {
   "cell_type": "markdown",
   "id": "0915672c-c5f7-48a6-b33d-85cbd61c13a1",
   "metadata": {},
   "source": [
    "### Calculate madness of a given year"
   ]
  },
   "source": [
    "data = np.load('upset.npy')\n",
    "ranking_trends = np.load('ranking-trends-yearly.npy')"
   ]
  },
  {
   "cell_type": "code",
   "execution_count": 86,
   "id": "7008fe7e-d84d-4e7c-a440-4459b493b57a",
   "metadata": {},
   "outputs": [],
   "source": [
    "years = np.unique(data[:,0])\n",
    "madness = np.zeros((len(years), 2))\n",
    "madness[:, 0] = years\n",
    "j = 0\n",
    "for i in range(data.shape[0]):\n",
    "    if data[i,1] > 1: # assuming an upset is between teams more than one seed apart\n",
    "        game_madness = math.pow(2, data[i,1] + data[i,2] + 1) #scaling \"madness\" exponentially by round & difference in seeding\n",
    "    else: #not an upset\n",
    "        game_madness = 0 \n",
    "    if years[j] != data[i,0]:\n",
    "        j += 1\n",
    "    madness[j,1] += game_madness\n",
    "    \n",
    "#print(data[np.where(data[:,0] == 2017)[0], :])\n",
    "\n",
    "np.save(\"madness\", madness)\n",
    "\n",
    "np.savetxt(\"ranking-trends.csv\", ranking_trends,  delimiter = \",\")\n",
    "np.savetxt(\"madness.csv\", madness,  delimiter = \",\")"
   ]
  },
  {
   "cell_type": "code",
   "execution_count": 87,
   "id": "13f1343c-6c8d-4552-9c98-c86db71b8924",
   "metadata": {},
   "outputs": [
    {
     "data": {
      "image/png": "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\n",
      "text/plain": [
       "<Figure size 432x288 with 1 Axes>"
      ]
     },
     "metadata": {
      "needs_background": "light"
     },
     "output_type": "display_data"
    },
    {
     "data": {
      "text/plain": [
       "<matplotlib.collections.PathCollection at 0x151421bf1ee0>"
      ]
     },
     "execution_count": 87,
     "metadata": {},
     "output_type": "execute_result"
    },
    {
     "data": {
      "image/png": "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\n",
      "text/plain": [
       "<Figure size 432x288 with 1 Axes>"
      ]
     },
     "metadata": {
      "needs_background": "light"
     },
     "output_type": "display_data"
    }
   ],
   "source": [
    "post_2003 = np.where(madness[:,0] == 2003)[0][0]\n",
    "plt.scatter(madness[post_2003:,0], madness[post_2003:,1])\n",
    "plt.show()\n",
    "plt.scatter(range(2003,2024), ranking_trends)"
   ]
  }
 ],
 "metadata": {
  "kernelspec": {
   "display_name": "Python 3 (ipykernel)",
   "language": "python",
   "name": "python3"
  },
  "language_info": {
   "codemirror_mode": {
    "name": "ipython",
    "version": 3
   },
   "file_extension": ".py",
   "mimetype": "text/x-python",
   "name": "python",
   "nbconvert_exporter": "python",
   "pygments_lexer": "ipython3",
   "version": "3.12.1"
  }
 },
 "nbformat": 4,
 "nbformat_minor": 5
}
