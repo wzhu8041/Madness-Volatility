{
 "cells": [
  {
   "cell_type": "code",
   "execution_count": 1,
   "id": "efb64c00-c73b-46ca-bf56-331116a94d09",
   "metadata": {},
   "outputs": [],
   "source": [
    "import pandas as pd\n",
    "import numpy as np\n",
    "import matplotlib.pyplot as plt\n",
    "from tqdm import tqdm\n",
    "import math"
   ]
  },
  {
   "cell_type": "code",
   "execution_count": 2,
   "id": "a0d9c4f3-c573-46ce-95c2-4b9ed6bb3253",
   "metadata": {},
   "outputs": [],
   "source": [
    "def convert(char):\n",
    "    if char == '-':\n",
    "        return 0\n",
    "    else:\n",
    "        return int(char)"
   ]
  },
  {
   "cell_type": "code",
   "execution_count": null,
   "id": "3400088e-c747-4b2b-a4aa-ff70178f0539",
   "metadata": {},
   "outputs": [],
   "source": [
    "url = \"https://www.espn.com/mens-college-basketball/rankings/_/week/{}/year/{}/seasontype/2\"\n",
    "trends = np.zeros((21, 20)) # (year, week)\n",
    "for year in tqdm(range(21)): # 2003-04 to 2022-23\n",
    "    total = 0\n",
    "    for week in range(20): # start at week 2, maximum week 20\n",
    "        try:\n",
    "            df = pd.read_html(url.format(week + 2, year + 2003))[0] # this is the AP poll; coaches is index 1\n",
    "            trend = df['TREND'].to_numpy()\n",
    "            trend = list(map(convert, trend))\n",
    "            trends[year, week] = sum(trend)\n",
    "        except ValueError as oops:\n",
    "            continue"
   ]
  },
  {
   "cell_type": "code",
   "execution_count": null,
   "id": "f0b50bf6-553b-41a9-9746-7d71fb958570",
   "metadata": {},
   "outputs": [],
   "source": [
    "sums = np.zeros(21)\n",
    "for i in range(21):\n",
    "    sums[i] = sum(trends[i])   \n",
    "plt.scatter(range(2003,2024), sums)\n",
    "np.save('ranking-trends-yearly', sums)"
   ]
  },
  {
   "cell_type": "markdown",
   "id": "f7f2a134-3304-493c-8b3c-2cac9046d847",
   "metadata": {},
   "source": [
    "# Looking at TOURNEYS\n",
    "### want year, seeding, round"
   ]
  },
  {
   "cell_type": "code",
   "execution_count": 4,
   "id": "708605e9-1e8d-4d59-a784-f7f83d4abeae",
   "metadata": {},
   "outputs": [],
   "source": [
    "url = 'https://en.wikipedia.org/wiki/NCAA_Division_I_men%27s_basketball_tournament_upsets#National_championship'\n",
    "df = pd.read_html(url)\n",
    "data = np.empty((0,3))"
   ]
  },
  {
   "cell_type": "code",
   "execution_count": 5,
   "id": "fe073dc8-56f7-4355-9692-23b9daa7ff2c",
   "metadata": {},
   "outputs": [],
   "source": [
    "def get_seed(loser):\n",
    "    loser = loser.split(')')\n",
    "    return int(loser[0][1:])"
   ]
  },
  {
   "cell_type": "markdown",
   "id": "e3f58647-88a3-4b0d-bb7a-43209a7aa717",
   "metadata": {},
   "source": [
    "tables 0 through 6 are round of 64-- 0th being 16 seeds, ..., 6th being 10 seeds\n",
    "\n",
    "for round of 32, don't want 10, 12, 14, 16-- these are seeds 15 through 8\n",
    "\n",
    "sweet 16: 19 through 24-- seeds 15, 12, 11, 10, 9, 8\n",
    "\n",
    "elite 8: 25 through 29-- 11, 10, 9, 8, 7"
   ]
  },
  {
   "cell_type": "code",
   "execution_count": 12,
   "id": "890e796f-e558-4bbd-8a52-1b25b06df81d",
   "metadata": {},
   "outputs": [
    {
     "name": "stdout",
     "output_type": "stream",
     "text": [
      "[[1985.    7.    5.]]\n",
      "[[ 2.014e+03 -1.000e+00  5.000e+00]]\n",
      "[[1983.    5.    5.]\n",
      " [1988.    5.    5.]]\n"
     ]
    }
   ],
   "source": [
    "# ROUND O' 64\n",
    "for i in range(0, 7):\n",
    "    seed_diff = 15 - 2*i\n",
    "    games_in = 0\n",
    "    num = df[i].shape[0] - 1\n",
    "    upsets = np.empty((num, 3))\n",
    "    upsets[:,0] = np.array(df[i][1:][0], dtype=int)\n",
    "    upsets[:,1:] = seed_diff, games_in\n",
    "    data = np.concatenate((data, upsets))\n",
    "\n",
    "# ROUND O' 32\n",
    "seeds = [15, 14, 13, -1, 12, -1, 11, -1, 10, -1, 9, 8]\n",
    "games_in = 1\n",
    "for i in range(7, 19):\n",
    "    seed = seeds[i - 7]\n",
    "    if seed < 0:\n",
    "        continue\n",
    "        print(seed)\n",
    "    if i > 10:\n",
    "        num = df[i].shape[0] - 2\n",
    "        upsets = np.empty((num, 3))\n",
    "        losers = df[i][2:][2]\n",
    "        upsets[:,0] = np.array(df[i][2:][0], dtype=int)\n",
    "    else:\n",
    "        num = df[i].shape[0] - 1\n",
    "        upsets = np.empty((num, 3))\n",
    "        losers = df[i][1:][2]\n",
    "        upsets[:,0] = np.array(df[i][1:][0], dtype=int)\n",
    "    losers = list(map(get_seed, losers))\n",
    "    seed_diff = np.repeat(seed, len(losers)) - np.array(losers)\n",
    "    upsets[:,1] = seed_diff\n",
    "    upsets[:,2] = np.repeat(games_in, len(losers))\n",
    "    data = np.concatenate((data, upsets))\n",
    "\n",
    "# SWEET 16\n",
    "seeds = [15, 12, 11, 10, 9, 8]\n",
    "games_in = 2\n",
    "for i in range(19, 25):\n",
    "    seed = seeds[i - 19]\n",
    "    num = df[i].shape[0] - 1\n",
    "    upsets = np.empty((num, 3))\n",
    "    losers = list(map(get_seed, df[i][1:][2]))\n",
    "    upsets[:,0] = np.array(df[i][1:][0], dtype=int)\n",
    "    seed_diff = np.repeat(seed, num) - np.array(losers)\n",
    "    upsets[:,1] = seed_diff\n",
    "    upsets[:,2] = np.repeat(games_in, num)\n",
    "    data = np.concatenate((data, upsets))\n",
    "\n",
    "# ELITE 8\n",
    "seeds = [11, 10, 9, 8, 7]\n",
    "games_in = 3\n",
    "for i in range(25, 30):\n",
    "    seed = seeds[i - 25]\n",
    "    num = df[i].shape[0] - 1\n",
    "    upsets = np.empty((num, 3))\n",
    "    losers = list(map(get_seed, df[i][1:][2]))\n",
    "    upsets[:,0] = np.array(df[i][1:][0], dtype=int)\n",
    "    seed_diff = np.repeat(seed, num) - np.array(losers)\n",
    "    upsets[:,1] = seed_diff\n",
    "    upsets[:,2] = np.repeat(games_in, num)\n",
    "    data = np.concatenate((data, upsets))\n",
    "\n",
    "# FINAL 4\n",
    "seeds = [8, 7, 6]\n",
    "games_in = 4\n",
    "for i in range(30, 33):\n",
    "    seed = seeds[i - 30]\n",
    "    num = df[i].shape[0] - 1\n",
    "    upsets = np.empty((num, 3))\n",
    "    losers = list(map(get_seed, df[i][1:][2]))\n",
    "    upsets[:,0] = np.array(df[i][1:][0], dtype=int)\n",
    "    seed_diff = np.repeat(seed, num) - np.array(losers)\n",
    "    upsets[:,1] = seed_diff\n",
    "    upsets[:,2] = np.repeat(games_in, num)\n",
    "    data = np.concatenate((data, upsets))\n",
    "\n",
    "# CHIP\n",
    "seeds = [8, 7, 6]\n",
    "games_in = 5\n",
    "for i in range(33, 36):\n",
    "    seed = seeds[i - 33]\n",
    "    num = df[i].shape[0] - 1\n",
    "    upsets = np.empty((num, 3))\n",
    "    losers = list(map(get_seed, df[i][1:][2]))\n",
    "    upsets[:,0] = np.array(df[i][1:][0], dtype=int)\n",
    "    seed_diff = np.repeat(seed, num) - np.array(losers)\n",
    "    upsets[:,1] = seed_diff\n",
    "    upsets[:,2] = np.repeat(games_in, num)\n",
    "    print(upsets)\n",
    "    data = np.concatenate((data, upsets))"
   ]
  },
  {
   "cell_type": "code",
   "execution_count": 13,
   "id": "6781979f-6a54-4ced-84f6-2e71f0ae1dfc",
   "metadata": {},
   "outputs": [],
   "source": [
    "# SORT BASED ON YEAR\n",
    "data = data[data[:, 0].argsort()]\n",
    "np.save('upsets', data) "
   ]
  },
  {
   "cell_type": "markdown",
   "id": "0915672c-c5f7-48a6-b33d-85cbd61c13a1",
   "metadata": {},
   "source": [
    "### Calculate madness of a given year"
   ]
  },
  {
   "cell_type": "code",
   "execution_count": null,
   "id": "3a9367cc-94eb-4be1-add9-6a94f85ef7b7",
   "metadata": {},
   "outputs": [],
   "source": [
    "data = np.load('upset.npy')\n",
    "ranking_trends = np.load('ranking-trends-yearly.npy')"
   ]
  },
  {
   "cell_type": "code",
   "execution_count": 86,
   "id": "7008fe7e-d84d-4e7c-a440-4459b493b57a",
   "metadata": {},
   "outputs": [],
   "source": [
    "years = np.unique(data[:,0])\n",
    "madness = np.zeros((len(years), 2))\n",
    "madness[:, 0] = years\n",
    "j = 0\n",
    "for i in range(data.shape[0]):\n",
    "    if data[i,1] > 1: # assuming an upset is between teams more than one seed apart\n",
    "        game_madness = math.pow(2, data[i,1] + data[i,2] + 1) #scaling \"madness\" exponentially by round & difference in seeding\n",
    "    else: #not an upset\n",
    "        game_madness = 0 \n",
    "    if years[j] != data[i,0]:\n",
    "        j += 1\n",
    "    madness[j,1] += game_madness\n",
    "    \n",
    "#print(data[np.where(data[:,0] == 2017)[0], :])\n",
    "\n",
    "np.save(\"madness\", madness)\n",
    "\n",
    "np.savetxt(\"ranking-trends.csv\", ranking_trends,  delimiter = \",\")\n",
    "np.savetxt(\"madness.csv\", madness,  delimiter = \",\")"
   ]
  },
  {
   "cell_type": "code",
   "execution_count": null,
   "id": "13f1343c-6c8d-4552-9c98-c86db71b8924",
   "metadata": {},
   "outputs": [],
   "source": [
    "post_2003 = np.where(madness[:,0] == 2003)[0][0]\n",
    "plt.scatter(madness[post_2003:,0], madness[post_2003:,1])\n",
    "plt.show()\n",
    "plt.scatter(range(2003,2024), ranking_trends)"
   ]
  }
 ],
 "metadata": {
  "kernelspec": {
   "display_name": "Python 3 (ipykernel)",
   "language": "python",
   "name": "python3"
  },
  "language_info": {
   "codemirror_mode": {
    "name": "ipython",
    "version": 3
   },
   "file_extension": ".py",
   "mimetype": "text/x-python",
   "name": "python",
   "nbconvert_exporter": "python",
   "pygments_lexer": "ipython3",
   "version": "3.12.1"
  }
 },
 "nbformat": 4,
 "nbformat_minor": 5
}
